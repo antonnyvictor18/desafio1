{
 "cells": [
  {
   "attachments": {},
   "cell_type": "markdown",
   "metadata": {},
   "source": [
    "# 1. Importação de Bibliotecas"
   ]
  },
  {
   "cell_type": "code",
   "execution_count": null,
   "metadata": {},
   "outputs": [],
   "source": [
    "import warnings\n",
    "import pandas as pd\n",
    "from typing import List, Tuple\n",
    "import numpy as np\n",
    "import matplotlib.pyplot as plt\n",
    "from scipy.stats import gamma, norm, probplot, pearsonr, power_divergence\n",
    "warnings.filterwarnings(\"ignore\")\n",
    "import seaborn as sns\n",
    "import plotly.express as px"
   ]
  },
  {
   "cell_type": "code",
   "execution_count": null,
   "metadata": {},
   "outputs": [],
   "source": [
    "def minutos_inteiro(coluna):\n",
    "    lista = []\n",
    "    for i in coluna:\n",
    "        try: \n",
    "            if int(i) < 10:\n",
    "                a = f'0{int(i)}'\n",
    "                lista.append(str(a))\n",
    "            elif int(i) > 90:\n",
    "                a = f'9{int(i)}'\n",
    "                lista.append(str(a))\n",
    "            else: \n",
    "                lista.append(i)\n",
    "        except: \n",
    "            lista.append(str(i))\n",
    "    return pd.Series(str(j) for j in lista)"
   ]
  },
  {
   "attachments": {},
   "cell_type": "markdown",
   "metadata": {},
   "source": [
    "# 2. Carregamento de Dados"
   ]
  },
  {
   "cell_type": "code",
   "execution_count": null,
   "metadata": {},
   "outputs": [],
   "source": [
    "dados_cr7 = pd.read_csv('cr7.csv')\n",
    "dados_messi = pd.read_csv('messi.csv')\n",
    "data = pd.read_csv('data.csv')"
   ]
  },
  {
   "attachments": {},
   "cell_type": "markdown",
   "metadata": {},
   "source": [
    "# 3. Familiarização com as Tabelas"
   ]
  },
  {
   "cell_type": "code",
   "execution_count": null,
   "metadata": {},
   "outputs": [],
   "source": [
    "print('CR7:')\n",
    "display(dados_cr7.head(5))\n",
    "print('\\nMessi:')\n",
    "display(dados_messi.head(5))\n",
    "print('\\nMessi e CR7:')\n",
    "display(data.head(5))"
   ]
  },
  {
   "cell_type": "code",
   "execution_count": null,
   "metadata": {},
   "outputs": [],
   "source": []
  },
  {
   "attachments": {},
   "cell_type": "markdown",
   "metadata": {},
   "source": [
    "# 4. Regularização de tabelas"
   ]
  },
  {
   "attachments": {},
   "cell_type": "markdown",
   "metadata": {},
   "source": [
    "## 4.1 Messi"
   ]
  },
  {
   "attachments": {},
   "cell_type": "markdown",
   "metadata": {},
   "source": [
    "### 4.1.1 Competição\n"
   ]
  },
  {
   "cell_type": "code",
   "execution_count": null,
   "metadata": {},
   "outputs": [],
   "source": [
    "display(dados_messi['Competition'].drop_duplicates())\n",
    "print()\n",
    "display(dados_messi[dados_messi['Competition'] == 'Champions League'])\n",
    "print()\n",
    "display(dados_messi[dados_messi['Competition'] == 'Troph�e des Champions'])\n",
    "print()\n",
    "display(dados_messi[dados_messi['Competition'] == 'Trophée des Champions'])\n",
    "print()\n",
    "dados_messi['Competition'][690] = 'UEFA Champions League'\n",
    "dados_messi.drop(686,inplace=True)\n",
    "print()\n",
    "display(dados_messi[dados_messi['Competition'] == 'Champions League'])\n",
    "print()\n",
    "display(dados_messi[dados_messi['Competition'] == 'Troph�e des Champions'])\n",
    "print()\n",
    "display(dados_messi[dados_messi['Competition'] == 'Trophée des Champions'])\n",
    "print()"
   ]
  },
  {
   "attachments": {},
   "cell_type": "markdown",
   "metadata": {},
   "source": [
    "### 4.1.2 Result"
   ]
  },
  {
   "cell_type": "code",
   "execution_count": null,
   "metadata": {},
   "outputs": [],
   "source": [
    "print(dados_messi[dados_messi['Venue'] == 'A']['Result'])\n",
    "\n",
    "for i in dados_messi[dados_messi['Venue'] == 'A']['Result'].index:\n",
    "    result = dados_messi['Result'][i].split(':')\n",
    "    try:\n",
    "        dados_messi['Result'][i] = f'{int(result[1])}:{int(result[0])}'\n",
    "    except:\n",
    "        result1 = result[1].split(' ')\n",
    "        dados_messi['Result'][i] = f'{result1[0]}:{result[0]} {result1[1]}'\n",
    "print(dados_messi[dados_messi['Venue'] == 'A']['Result'])"
   ]
  },
  {
   "attachments": {},
   "cell_type": "markdown",
   "metadata": {},
   "source": [
    "### 4.1.3 At_score"
   ]
  },
  {
   "cell_type": "code",
   "execution_count": null,
   "metadata": {},
   "outputs": [],
   "source": [
    "for i in dados_messi[dados_messi['Venue'] == 'A']['At_score'].index:\n",
    "    At_score = dados_messi['At_score'][i].split(':')\n",
    "    try:\n",
    "        dados_messi['At_score'][i] = f'{int(At_score[1])}:{int(At_score[0])}'\n",
    "    except:\n",
    "        dados_messi['At_score'][i] = f'{At_score[1]}:{At_score[0]}'"
   ]
  },
  {
   "attachments": {},
   "cell_type": "markdown",
   "metadata": {},
   "source": [
    "### 4.1.4 Season"
   ]
  },
  {
   "cell_type": "code",
   "execution_count": null,
   "metadata": {},
   "outputs": [],
   "source": [
    "for i in dados_messi[dados_messi['Season'] == '11-Dec'].index:\n",
    "    dados_messi['Season'][i] = '11/12'\n",
    "\n",
    "for i in dados_messi[dados_messi['Season'] == 'Dec-13'].index:\n",
    "    dados_messi['Season'][i] = '12/13'"
   ]
  },
  {
   "attachments": {},
   "cell_type": "markdown",
   "metadata": {},
   "source": [
    "### 4.1.5 Position"
   ]
  },
  {
   "cell_type": "code",
   "execution_count": null,
   "metadata": {},
   "outputs": [],
   "source": [
    "\n",
    "print(dados_messi['Playing_Position'].drop_duplicates())\n",
    "\n",
    "t = dados_messi['Playing_Position'][0]\n",
    "u = dados_messi['Playing_Position'][308]\n",
    "for i in dados_messi[dados_messi['Playing_Position'] == u ].index:\n",
    "     dados_messi['Playing_Position'][i] = t\n",
    "\n",
    "t = dados_messi['Playing_Position'][1]\n",
    "u = dados_messi['Playing_Position'][377]\n",
    "for i in dados_messi[dados_messi['Playing_Position'] == u ].index:\n",
    "     dados_messi['Playing_Position'][i] = t\n",
    "\n",
    "t = dados_messi['Playing_Position'][204]\n",
    "u = dados_messi['Playing_Position'][522]\n",
    "for i in dados_messi[dados_messi['Playing_Position'] == u ].index:\n",
    "     dados_messi['Playing_Position'][i] = t\n",
    "\n",
    "t = dados_messi['Playing_Position'][374]\n",
    "u = dados_messi['Playing_Position'][416]\n",
    "for i in dados_messi[dados_messi['Playing_Position'] == u ].index:\n",
    "     dados_messi['Playing_Position'][i] = t\n",
    "\n",
    "\n",
    "print(dados_messi['Playing_Position'].drop_duplicates())\n"
   ]
  },
  {
   "attachments": {},
   "cell_type": "markdown",
   "metadata": {},
   "source": [
    "# 5. Criação de novas tabelas"
   ]
  },
  {
   "attachments": {},
   "cell_type": "markdown",
   "metadata": {},
   "source": [
    "## 5.1 Gols por Jogo que marcou"
   ]
  },
  {
   "cell_type": "code",
   "execution_count": 556,
   "metadata": {},
   "outputs": [
    {
     "data": {
      "text/html": [
       "<div>\n",
       "<style scoped>\n",
       "    .dataframe tbody tr th:only-of-type {\n",
       "        vertical-align: middle;\n",
       "    }\n",
       "\n",
       "    .dataframe tbody tr th {\n",
       "        vertical-align: top;\n",
       "    }\n",
       "\n",
       "    .dataframe thead tr th {\n",
       "        text-align: left;\n",
       "    }\n",
       "</style>\n",
       "<table border=\"1\" class=\"dataframe\">\n",
       "  <thead>\n",
       "    <tr>\n",
       "      <th></th>\n",
       "      <th>Season</th>\n",
       "      <th>Competition</th>\n",
       "      <th>Matchday</th>\n",
       "      <th>Gols</th>\n",
       "    </tr>\n",
       "  </thead>\n",
       "  <tbody>\n",
       "    <tr>\n",
       "      <th>0</th>\n",
       "      <td>04/05</td>\n",
       "      <td>LaLiga</td>\n",
       "      <td>34</td>\n",
       "      <td>1</td>\n",
       "    </tr>\n",
       "    <tr>\n",
       "      <th>1</th>\n",
       "      <td>05/06</td>\n",
       "      <td>Copa del Rey</td>\n",
       "      <td>Quarter-Finals</td>\n",
       "      <td>1</td>\n",
       "    </tr>\n",
       "    <tr>\n",
       "      <th>2</th>\n",
       "      <td>05/06</td>\n",
       "      <td>LaLiga</td>\n",
       "      <td>13</td>\n",
       "      <td>1</td>\n",
       "    </tr>\n",
       "    <tr>\n",
       "      <th>3</th>\n",
       "      <td>05/06</td>\n",
       "      <td>LaLiga</td>\n",
       "      <td>19</td>\n",
       "      <td>1</td>\n",
       "    </tr>\n",
       "    <tr>\n",
       "      <th>4</th>\n",
       "      <td>05/06</td>\n",
       "      <td>LaLiga</td>\n",
       "      <td>20</td>\n",
       "      <td>1</td>\n",
       "    </tr>\n",
       "    <tr>\n",
       "      <th>...</th>\n",
       "      <td>...</td>\n",
       "      <td>...</td>\n",
       "      <td>...</td>\n",
       "      <td>...</td>\n",
       "    </tr>\n",
       "    <tr>\n",
       "      <th>399</th>\n",
       "      <td>22/23</td>\n",
       "      <td>Ligue 1</td>\n",
       "      <td>13</td>\n",
       "      <td>1</td>\n",
       "    </tr>\n",
       "    <tr>\n",
       "      <th>400</th>\n",
       "      <td>22/23</td>\n",
       "      <td>Ligue 1</td>\n",
       "      <td>3</td>\n",
       "      <td>1</td>\n",
       "    </tr>\n",
       "    <tr>\n",
       "      <th>401</th>\n",
       "      <td>22/23</td>\n",
       "      <td>Ligue 1</td>\n",
       "      <td>8</td>\n",
       "      <td>1</td>\n",
       "    </tr>\n",
       "    <tr>\n",
       "      <th>402</th>\n",
       "      <td>22/23</td>\n",
       "      <td>Ligue 1</td>\n",
       "      <td>9</td>\n",
       "      <td>1</td>\n",
       "    </tr>\n",
       "    <tr>\n",
       "      <th>403</th>\n",
       "      <td>22/23</td>\n",
       "      <td>UEFA Champions League</td>\n",
       "      <td>Group Stage</td>\n",
       "      <td>4</td>\n",
       "    </tr>\n",
       "  </tbody>\n",
       "</table>\n",
       "<p>404 rows × 4 columns</p>\n",
       "</div>"
      ],
      "text/plain": [
       "    Season            Competition        Matchday Gols\n",
       "0    04/05                 LaLiga              34    1\n",
       "1    05/06           Copa del Rey  Quarter-Finals    1\n",
       "2    05/06                 LaLiga              13    1\n",
       "3    05/06                 LaLiga              19    1\n",
       "4    05/06                 LaLiga              20    1\n",
       "..     ...                    ...             ...  ...\n",
       "399  22/23                Ligue 1              13    1\n",
       "400  22/23                Ligue 1               3    1\n",
       "401  22/23                Ligue 1               8    1\n",
       "402  22/23                Ligue 1               9    1\n",
       "403  22/23  UEFA Champions League     Group Stage    4\n",
       "\n",
       "[404 rows x 4 columns]"
      ]
     },
     "metadata": {},
     "output_type": "display_data"
    }
   ],
   "source": [
    "gols_competition_per_season_per_matchday = dados_messi.groupby(by = ['Season','Competition', 'Matchday']).Opponent\n",
    "lista_dados = []\n",
    "for i in gols_competition_per_season_per_matchday:\n",
    "    lista_dados.append([i[0][0],i[0][1],i[0][2],len(i[1])])\n",
    "\n",
    "gols_competition_per_season_per_matchday = pd.DataFrame(lista_dados)\n",
    "gols_competition_per_season_per_matchday.columns = [['Season', 'Competition', 'Matchday','Gols']]\n",
    "display(gols_competition_per_season_per_matchday)"
   ]
  },
  {
   "attachments": {},
   "cell_type": "markdown",
   "metadata": {},
   "source": [
    "## 5.2 Gols por Competição na Temporada"
   ]
  },
  {
   "cell_type": "code",
   "execution_count": 559,
   "metadata": {},
   "outputs": [
    {
     "data": {
      "text/html": [
       "<div>\n",
       "<style scoped>\n",
       "    .dataframe tbody tr th:only-of-type {\n",
       "        vertical-align: middle;\n",
       "    }\n",
       "\n",
       "    .dataframe tbody tr th {\n",
       "        vertical-align: top;\n",
       "    }\n",
       "\n",
       "    .dataframe thead tr th {\n",
       "        text-align: left;\n",
       "    }\n",
       "</style>\n",
       "<table border=\"1\" class=\"dataframe\">\n",
       "  <thead>\n",
       "    <tr>\n",
       "      <th></th>\n",
       "      <th>Season</th>\n",
       "      <th>Competitition</th>\n",
       "      <th>Gols</th>\n",
       "    </tr>\n",
       "  </thead>\n",
       "  <tbody>\n",
       "    <tr>\n",
       "      <th>0</th>\n",
       "      <td>04/05</td>\n",
       "      <td>LaLiga</td>\n",
       "      <td>1</td>\n",
       "    </tr>\n",
       "    <tr>\n",
       "      <th>1</th>\n",
       "      <td>05/06</td>\n",
       "      <td>Copa del Rey</td>\n",
       "      <td>1</td>\n",
       "    </tr>\n",
       "    <tr>\n",
       "      <th>2</th>\n",
       "      <td>05/06</td>\n",
       "      <td>LaLiga</td>\n",
       "      <td>6</td>\n",
       "    </tr>\n",
       "    <tr>\n",
       "      <th>3</th>\n",
       "      <td>05/06</td>\n",
       "      <td>UEFA Champions League</td>\n",
       "      <td>1</td>\n",
       "    </tr>\n",
       "    <tr>\n",
       "      <th>4</th>\n",
       "      <td>06/07</td>\n",
       "      <td>Copa del Rey</td>\n",
       "      <td>2</td>\n",
       "    </tr>\n",
       "    <tr>\n",
       "      <th>...</th>\n",
       "      <td>...</td>\n",
       "      <td>...</td>\n",
       "      <td>...</td>\n",
       "    </tr>\n",
       "    <tr>\n",
       "      <th>61</th>\n",
       "      <td>21/22</td>\n",
       "      <td>Ligue 1</td>\n",
       "      <td>8</td>\n",
       "    </tr>\n",
       "    <tr>\n",
       "      <th>62</th>\n",
       "      <td>21/22</td>\n",
       "      <td>Trophée des Champions</td>\n",
       "      <td>1</td>\n",
       "    </tr>\n",
       "    <tr>\n",
       "      <th>63</th>\n",
       "      <td>21/22</td>\n",
       "      <td>UEFA Champions League</td>\n",
       "      <td>5</td>\n",
       "    </tr>\n",
       "    <tr>\n",
       "      <th>64</th>\n",
       "      <td>22/23</td>\n",
       "      <td>Ligue 1</td>\n",
       "      <td>7</td>\n",
       "    </tr>\n",
       "    <tr>\n",
       "      <th>65</th>\n",
       "      <td>22/23</td>\n",
       "      <td>UEFA Champions League</td>\n",
       "      <td>4</td>\n",
       "    </tr>\n",
       "  </tbody>\n",
       "</table>\n",
       "<p>66 rows × 3 columns</p>\n",
       "</div>"
      ],
      "text/plain": [
       "   Season          Competitition Gols\n",
       "0   04/05                 LaLiga    1\n",
       "1   05/06           Copa del Rey    1\n",
       "2   05/06                 LaLiga    6\n",
       "3   05/06  UEFA Champions League    1\n",
       "4   06/07           Copa del Rey    2\n",
       "..    ...                    ...  ...\n",
       "61  21/22                Ligue 1    8\n",
       "62  21/22  Trophée des Champions    1\n",
       "63  21/22  UEFA Champions League    5\n",
       "64  22/23                Ligue 1    7\n",
       "65  22/23  UEFA Champions League    4\n",
       "\n",
       "[66 rows x 3 columns]"
      ]
     },
     "metadata": {},
     "output_type": "display_data"
    }
   ],
   "source": [
    "gols_competition_per_season = dados_messi.groupby(by = ['Season','Competition']).Matchday\n",
    "lista_dados = []\n",
    "for i in gols_competition_per_season:\n",
    "    lista_dados.append([i[0][0],i[0][1],len(i[1])])\n",
    "\n",
    "gols_competition_per_season = pd.DataFrame(lista_dados)\n",
    "gols_competition_per_season.columns = [['Season', 'Competitition', 'Gols']]\n",
    "display(gols_competition_per_season)\n"
   ]
  },
  {
   "attachments": {},
   "cell_type": "markdown",
   "metadata": {},
   "source": [
    "## 5.3 Gols por Temporada"
   ]
  },
  {
   "cell_type": "code",
   "execution_count": null,
   "metadata": {},
   "outputs": [],
   "source": [
    "per_season = pd.DataFrame(dados_messi.groupby('Season').Opponent)\n",
    "per_season['Gols'] = len(per_season[1][0])\n",
    "\n",
    "for i in range(len(per_season[0])):\n",
    "    per_season['Gols'][i] = len(per_season[1][i])\n",
    "\n",
    "\n",
    "per_season = per_season.rename(columns = {0: 'Season', 1: 'Opponents'}).sort_values(by='Season')\n",
    "per_season = per_season.drop(['Opponents'], axis=1)\n",
    "\n",
    "display(per_season)"
   ]
  },
  {
   "attachments": {},
   "cell_type": "markdown",
   "metadata": {},
   "source": [
    "## 5.4 Gols por Competição"
   ]
  },
  {
   "cell_type": "code",
   "execution_count": null,
   "metadata": {},
   "outputs": [],
   "source": [
    "per_competition = pd.DataFrame(dados_messi.groupby('Competition').Opponent)\n",
    "per_competition['Gols'] = len(per_competition[1][0])\n",
    "\n",
    "for i in range(len(per_competition[0])):\n",
    "    per_competition['Gols'][i] = len(per_competition[1][i])\n",
    "\n",
    "per_competition.rename(columns = {0: 'Competition', 1: 'Opponents'}, inplace=True)\n",
    "per_competition.sort_values(by='Gols',ascending= False, inplace=True)\n",
    "per_competition.drop(['Opponents'], axis=1, inplace = True)\n",
    "\n",
    "display(per_competition)"
   ]
  },
  {
   "attachments": {},
   "cell_type": "markdown",
   "metadata": {},
   "source": [
    "## 5.5 Gols por Tipo"
   ]
  },
  {
   "cell_type": "code",
   "execution_count": null,
   "metadata": {},
   "outputs": [],
   "source": [
    "per_type = pd.DataFrame(dados_messi.groupby('Type').Opponent)\n",
    "per_type['Gols'] = len(per_type[1][0])\n",
    "\n",
    "for i in range(len(per_type[0])):\n",
    "    per_type['Gols'][i] = len(per_type[1][i])\n",
    "\n",
    "per_type = per_type.rename(columns = {0: 'Type', 1: 'Opponents'}).sort_values(by='Gols',ascending= False)\n",
    "per_type = per_type.drop(['Opponents'], axis=1)\n",
    "\n",
    "display(per_type)"
   ]
  },
  {
   "attachments": {},
   "cell_type": "markdown",
   "metadata": {},
   "source": [
    "## 5.6 Gols por Adversário"
   ]
  },
  {
   "cell_type": "code",
   "execution_count": null,
   "metadata": {},
   "outputs": [],
   "source": [
    "per_opponent = pd.DataFrame(dados_messi.groupby('Opponent').Season)\n",
    "per_opponent['Gols'] = len(per_opponent[1][0])\n",
    "\n",
    "for i in range(len(per_opponent[0])):\n",
    "    per_opponent['Gols'][i] = len(per_opponent[1][i])\n",
    "\n",
    "per_opponent = per_opponent.rename(columns = {0: 'Opponent', 1: 'Seasons'}).sort_values(by='Gols',ascending= False)\n",
    "per_opponent = per_opponent.drop(['Seasons'], axis=1)\n",
    "\n",
    "display(per_opponent)\n"
   ]
  },
  {
   "attachments": {},
   "cell_type": "markdown",
   "metadata": {},
   "source": [
    "## 5.7 Gols por posição"
   ]
  },
  {
   "cell_type": "code",
   "execution_count": null,
   "metadata": {},
   "outputs": [],
   "source": [
    "per_position = pd.DataFrame(dados_messi.groupby('Playing_Position').Opponent)\n",
    "per_position['Gols'] = len(per_position[1][0])\n",
    "\n",
    "for i in range(len(per_position[0])):\n",
    "    per_position['Gols'][i] = len(per_position[1][i])\n",
    "\n",
    "per_position = per_position.rename(columns = {0: 'Position', 1: 'Opponents'}).sort_values(by='Gols',ascending= False)\n",
    "per_position = per_position.drop(['Opponents'], axis=1)\n",
    "\n",
    "display(per_position)"
   ]
  },
  {
   "attachments": {},
   "cell_type": "markdown",
   "metadata": {},
   "source": [
    "## 5.8 Gols por jogador assistente"
   ]
  },
  {
   "cell_type": "code",
   "execution_count": null,
   "metadata": {},
   "outputs": [],
   "source": [
    "per_assist = pd.DataFrame(dados_messi.groupby('Goal_assist').Opponent)\n",
    "per_assist['Gols'] = len(per_assist[1][0])\n",
    "\n",
    "for i in range(len(per_assist[0])):\n",
    "    per_assist['Gols'][i] = len(per_assist[1][i])\n",
    "\n",
    "per_assist = per_assist.rename(columns = {0: 'Assist', 1: 'Opponents'}).sort_values(by='Gols',ascending= False)\n",
    "per_assist = per_assist.drop(['Opponents'], axis=1)\n",
    "\n",
    "display(per_assist)"
   ]
  },
  {
   "attachments": {},
   "cell_type": "markdown",
   "metadata": {},
   "source": [
    "## 5.9 Gols por Clube"
   ]
  },
  {
   "cell_type": "code",
   "execution_count": null,
   "metadata": {},
   "outputs": [],
   "source": [
    "per_club = pd.DataFrame(dados_messi.groupby('Club').Opponent)\n",
    "per_club['Gols'] = len(per_club[1][0])\n",
    "\n",
    "for i in range(len(per_club[0])):\n",
    "    per_club['Gols'][i] = len(per_club[1][i])\n",
    "\n",
    "per_club = per_club.rename(columns = {0: 'Club', 1: 'Opponents'}).sort_values(by='Gols',ascending= False)\n",
    "per_club = per_club.drop(['Opponents'], axis=1)\n",
    "\n",
    "display(per_club)"
   ]
  },
  {
   "attachments": {},
   "cell_type": "markdown",
   "metadata": {},
   "source": [
    "## 5.10 Gols por resultado final do jogo"
   ]
  },
  {
   "cell_type": "code",
   "execution_count": null,
   "metadata": {},
   "outputs": [],
   "source": [
    "per_final_result = pd.DataFrame(dados_messi.groupby('Result').Opponent)\n",
    "per_final_result['Gols'] = len(per_final_result[1][0])\n",
    "\n",
    "for i in range(len(per_final_result[0])):\n",
    "    per_final_result['Gols'][i] = len(per_final_result[1][i])\n",
    "\n",
    "per_final_result = per_final_result.rename(columns = {0: 'Result', 1: 'Opponents'}).sort_values(by='Result',ascending= True)\n",
    "per_final_result = per_final_result.drop(['Opponents'], axis=1)\n",
    "\n",
    "display(per_final_result)"
   ]
  },
  {
   "attachments": {},
   "cell_type": "markdown",
   "metadata": {},
   "source": [
    "## 5.11 Gols por Placar no Momento"
   ]
  },
  {
   "cell_type": "code",
   "execution_count": null,
   "metadata": {},
   "outputs": [],
   "source": [
    "per_score_moment = pd.DataFrame(dados_messi.groupby('At_score').Opponent)\n",
    "per_score_moment['Gols'] = len(per_score_moment[1][0])\n",
    "\n",
    "for i in range(len(per_score_moment[0])):\n",
    "    per_score_moment['Gols'][i] = len(per_score_moment[1][i])\n",
    "\n",
    "per_score_moment = per_score_moment.rename(columns = {0: 'At_score', 1: 'Opponents'}).sort_values(by='At_score',ascending= True)\n",
    "per_score_moment = per_score_moment.drop(['Opponents'], axis=1)\n",
    "\n",
    "display(per_score_moment)"
   ]
  },
  {
   "attachments": {},
   "cell_type": "markdown",
   "metadata": {},
   "source": [
    "## 5.12 Gols por Local (H = Home; A = Away)"
   ]
  },
  {
   "cell_type": "code",
   "execution_count": null,
   "metadata": {},
   "outputs": [],
   "source": [
    "\n",
    "per_venue = pd.DataFrame(dados_messi.groupby('Venue').Opponent)\n",
    "per_venue['Gols'] = len(per_venue[1][0])\n",
    "\n",
    "for i in range(len(per_venue[0])):\n",
    "    per_venue['Gols'][i] = len(per_venue[1][i])\n",
    "    \n",
    "per_venue = per_venue.rename(columns = {0: 'Venue', 1: 'Opponents'}).sort_values(by='Gols',ascending= False)\n",
    "per_venue = per_venue.drop(['Opponents'], axis=1)   \n",
    "\n",
    "display(per_venue)"
   ]
  },
  {
   "attachments": {},
   "cell_type": "markdown",
   "metadata": {},
   "source": [
    "## 5.12 Gols por minuto"
   ]
  },
  {
   "cell_type": "code",
   "execution_count": null,
   "metadata": {},
   "outputs": [],
   "source": [
    "per_minute = pd.DataFrame(dados_messi.groupby('Minute').Opponent)\n",
    "per_minute['Gols'] = len(per_minute[1][0])\n",
    "per_minute['Inteiro'] = minutos_inteiro(per_minute[0])\n",
    "\n",
    "for i in range(len(per_minute[0])):\n",
    "    per_minute['Gols'][i] = len(per_minute[1][i])\n",
    "\n",
    "per_minute = per_minute.rename(columns = {0: 'Minute', 1: 'Opponents'}).sort_values(by = 'Inteiro')\n",
    "per_minute.reset_index(inplace=True)\n",
    "per_minute.drop(['index','Opponents', 'Inteiro'], axis=1, inplace=True)\n",
    "\n",
    "display(per_minute)"
   ]
  },
  {
   "attachments": {},
   "cell_type": "markdown",
   "metadata": {},
   "source": [
    "# 6 Histogramas"
   ]
  },
  {
   "attachments": {},
   "cell_type": "markdown",
   "metadata": {},
   "source": [
    "## 6.1 Gols por jogo que marcou"
   ]
  },
  {
   "attachments": {},
   "cell_type": "markdown",
   "metadata": {},
   "source": [
    "## 6.2 Gols por Competição na temporada"
   ]
  },
  {
   "attachments": {},
   "cell_type": "markdown",
   "metadata": {},
   "source": [
    "## 6.3 Gols por temporada"
   ]
  },
  {
   "cell_type": "code",
   "execution_count": null,
   "metadata": {},
   "outputs": [],
   "source": [
    "#ordem Cronológica\n",
    "x = per_season['Season']\n",
    "y = per_season['Gols']\n",
    "plt.figure(figsize = (30,5))\n",
    "plt.title('Gols per Season')\n",
    "plt.xlabel('Seasons')\n",
    "plt.ylabel('Gols')\n",
    "plt.bar(x, y)\n",
    "plt.show()\n"
   ]
  },
  {
   "attachments": {},
   "cell_type": "markdown",
   "metadata": {},
   "source": [
    "## 6.4 Gols por Competição"
   ]
  },
  {
   "cell_type": "code",
   "execution_count": null,
   "metadata": {},
   "outputs": [],
   "source": [
    "#ordem Cronológica\n",
    "x = per_competition['Competition']\n",
    "y = per_competition['Gols']\n",
    "plt.figure(figsize = (30,5))\n",
    "plt.title('Gols per Competition')\n",
    "plt.xlabel('Competition')\n",
    "plt.ylabel('Gols')\n",
    "plt.bar(x, y)\n",
    "plt.show()\n"
   ]
  },
  {
   "attachments": {},
   "cell_type": "markdown",
   "metadata": {},
   "source": [
    "## 6.5 Gols por Oponente"
   ]
  },
  {
   "cell_type": "code",
   "execution_count": null,
   "metadata": {},
   "outputs": [],
   "source": [
    "#ordem Cronológica\n",
    "x = per_opponent['Opponent']\n",
    "y = per_opponent['Gols']\n",
    "plt.figure(figsize = (230,5))\n",
    "plt.title('Gols per Opponent')\n",
    "plt.xlabel('Opponent')\n",
    "plt.ylabel('Gols')\n",
    "plt.bar(x, y)\n",
    "plt.show()\n"
   ]
  },
  {
   "attachments": {},
   "cell_type": "markdown",
   "metadata": {},
   "source": [
    "## 6.6 Gols por Tipo"
   ]
  },
  {
   "cell_type": "code",
   "execution_count": null,
   "metadata": {},
   "outputs": [],
   "source": [
    "#ordem Cronológica\n",
    "x = per_type['Type']\n",
    "y = per_type['Gols']\n",
    "plt.figure(figsize = (30,5))\n",
    "plt.title('Gols per Type')\n",
    "plt.xlabel('Type')\n",
    "plt.ylabel('Gols')\n",
    "plt.bar(x, y)\n",
    "plt.show()\n"
   ]
  },
  {
   "attachments": {},
   "cell_type": "markdown",
   "metadata": {},
   "source": [
    "## 6.7 Gols por posição"
   ]
  },
  {
   "cell_type": "code",
   "execution_count": null,
   "metadata": {},
   "outputs": [],
   "source": [
    "#ordem Cronológica\n",
    "x = per_position['Position']\n",
    "y = per_position['Gols']\n",
    "plt.figure(figsize = (30,5))\n",
    "plt.title('Gols per Type')\n",
    "plt.xlabel('Type')\n",
    "plt.ylabel('Gols')\n",
    "plt.bar(x, y)\n",
    "plt.show()\n"
   ]
  },
  {
   "attachments": {},
   "cell_type": "markdown",
   "metadata": {},
   "source": [
    "## 6.8 Gols por Jogador assistente"
   ]
  },
  {
   "cell_type": "code",
   "execution_count": null,
   "metadata": {},
   "outputs": [],
   "source": [
    "#ordem Cronológica\n",
    "x = per_assist['Assist']\n",
    "y = per_assist['Gols']\n",
    "plt.figure(figsize = (230,5))\n",
    "plt.title('Gols per Type')\n",
    "plt.xlabel('Type')\n",
    "plt.ylabel('Gols')\n",
    "plt.bar(x, y)\n",
    "plt.show()\n"
   ]
  },
  {
   "attachments": {},
   "cell_type": "markdown",
   "metadata": {},
   "source": [
    "## 6.9 Gols por Clube "
   ]
  },
  {
   "cell_type": "code",
   "execution_count": null,
   "metadata": {},
   "outputs": [],
   "source": [
    "#ordem Cronológica\n",
    "x = per_club['Club']\n",
    "y = per_club['Gols']\n",
    "plt.figure(figsize = (6,5))\n",
    "plt.title('Gols per Type')\n",
    "plt.xlabel('Type')\n",
    "plt.ylabel('Gols')\n",
    "plt.bar(x, y)\n",
    "plt.show()\n"
   ]
  },
  {
   "attachments": {},
   "cell_type": "markdown",
   "metadata": {},
   "source": [
    "## 6.10 Gols por resultado final do jogo"
   ]
  },
  {
   "cell_type": "code",
   "execution_count": null,
   "metadata": {},
   "outputs": [],
   "source": [
    "#ordem Cronológica\n",
    "x = per_final_result['Result']\n",
    "y = per_final_result['Gols']\n",
    "plt.figure(figsize = (100,5))\n",
    "plt.title('Gols per Type')\n",
    "plt.xlabel('Type')\n",
    "plt.ylabel('Gols')\n",
    "plt.bar(x, y)\n",
    "plt.show()\n"
   ]
  },
  {
   "attachments": {},
   "cell_type": "markdown",
   "metadata": {},
   "source": [
    "## 6.11 Gols por placar momentâneo do gol"
   ]
  },
  {
   "cell_type": "code",
   "execution_count": null,
   "metadata": {},
   "outputs": [],
   "source": [
    "#ordem Cronológica\n",
    "x = per_score_moment['At_score']\n",
    "y = per_score_moment['Gols']\n",
    "plt.figure(figsize = (100,5))\n",
    "plt.title('Gols per Type')\n",
    "plt.xlabel('Type')\n",
    "plt.ylabel('Gols')\n",
    "plt.bar(x, y)\n",
    "plt.show()\n"
   ]
  },
  {
   "attachments": {},
   "cell_type": "markdown",
   "metadata": {},
   "source": [
    "## 6.12 Gols por minuto exato"
   ]
  },
  {
   "attachments": {},
   "cell_type": "markdown",
   "metadata": {},
   "source": [
    "## 6.13 Gols por local (H = Home; A: Away)"
   ]
  },
  {
   "cell_type": "code",
   "execution_count": null,
   "metadata": {},
   "outputs": [],
   "source": [
    "#ordem Cronológica\n",
    "x = per_venue['Venue']\n",
    "y = per_venue['Gols']\n",
    "plt.figure(figsize = (5,4))\n",
    "plt.title('Gols per Type')\n",
    "plt.xlabel('Type')\n",
    "plt.ylabel('Gols')\n",
    "plt.bar(x, y)\n",
    "plt.show()\n"
   ]
  }
 ],
 "metadata": {
  "kernelspec": {
   "display_name": "Python 3",
   "language": "python",
   "name": "python3"
  },
  "language_info": {
   "codemirror_mode": {
    "name": "ipython",
    "version": 3
   },
   "file_extension": ".py",
   "mimetype": "text/x-python",
   "name": "python",
   "nbconvert_exporter": "python",
   "pygments_lexer": "ipython3",
   "version": "3.8.0"
  },
  "orig_nbformat": 4,
  "vscode": {
   "interpreter": {
    "hash": "b47612a09bc9645fbc54fd8922e874d6e0b9edaaab4d77c3ad4edbab73b535b5"
   }
  }
 },
 "nbformat": 4,
 "nbformat_minor": 2
}
